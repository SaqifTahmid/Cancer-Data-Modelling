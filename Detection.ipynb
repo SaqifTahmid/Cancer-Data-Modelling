{
 "cells": [
  {
   "cell_type": "code",
   "execution_count": 1,
   "metadata": {},
   "outputs": [
    {
     "name": "stderr",
     "output_type": "stream",
     "text": [
      "/tmp/ipykernel_18515/1020607637.py:1: DeprecationWarning: \n",
      "Pyarrow will become a required dependency of pandas in the next major release of pandas (pandas 3.0),\n",
      "(to allow more performant data types, such as the Arrow string type, and better interoperability with other libraries)\n",
      "but was not found to be installed on your system.\n",
      "If this would cause problems for you,\n",
      "please provide us feedback at https://github.com/pandas-dev/pandas/issues/54466\n",
      "        \n",
      "  import pandas as pd\n"
     ]
    }
   ],
   "source": [
    "import pandas as pd\n",
    "import numpy as np\n",
    "import seaborn as sns\n",
    "import matplotlib.pyplot as plt"
   ]
  },
  {
   "cell_type": "code",
   "execution_count": 3,
   "metadata": {},
   "outputs": [
    {
     "name": "stdout",
     "output_type": "stream",
     "text": [
      "                                     Area  Year   Case\n",
      "0    Abbotsford-Mission, British Columbia  2003  408.5\n",
      "1    Abbotsford-Mission, British Columbia  2004  402.4\n",
      "2    Abbotsford-Mission, British Columbia  2005  417.8\n",
      "3    Abbotsford-Mission, British Columbia  2006  421.9\n",
      "4    Abbotsford-Mission, British Columbia  2007  446.2\n",
      "..                                    ...   ...    ...\n",
      "450                    Winnipeg, Manitoba  2011  517.2\n",
      "451                    Winnipeg, Manitoba  2012  511.0\n",
      "452                    Winnipeg, Manitoba  2013  506.4\n",
      "453                    Winnipeg, Manitoba  2014  497.9\n",
      "454                    Winnipeg, Manitoba  2015  494.2\n",
      "\n",
      "[455 rows x 3 columns]\n"
     ]
    }
   ],
   "source": [
    "#Load the CSV for the Cancer Data\n",
    "cancer= pd.read_csv('https://raw.githubusercontent.com/SaqifTahmid/Cancer-Prediction/main/cancerrate.csv')\n",
    "print(cancer)"
   ]
  },
  {
   "cell_type": "code",
   "execution_count": 5,
   "metadata": {},
   "outputs": [
    {
     "data": {
      "text/html": [
       "<div>\n",
       "<style scoped>\n",
       "    .dataframe tbody tr th:only-of-type {\n",
       "        vertical-align: middle;\n",
       "    }\n",
       "\n",
       "    .dataframe tbody tr th {\n",
       "        vertical-align: top;\n",
       "    }\n",
       "\n",
       "    .dataframe thead th {\n",
       "        text-align: right;\n",
       "    }\n",
       "</style>\n",
       "<table border=\"1\" class=\"dataframe\">\n",
       "  <thead>\n",
       "    <tr style=\"text-align: right;\">\n",
       "      <th></th>\n",
       "      <th>Area</th>\n",
       "      <th>Year</th>\n",
       "      <th>Case</th>\n",
       "    </tr>\n",
       "  </thead>\n",
       "  <tbody>\n",
       "    <tr>\n",
       "      <th>450</th>\n",
       "      <td>Winnipeg, Manitoba</td>\n",
       "      <td>2011</td>\n",
       "      <td>517.2</td>\n",
       "    </tr>\n",
       "    <tr>\n",
       "      <th>451</th>\n",
       "      <td>Winnipeg, Manitoba</td>\n",
       "      <td>2012</td>\n",
       "      <td>511.0</td>\n",
       "    </tr>\n",
       "    <tr>\n",
       "      <th>452</th>\n",
       "      <td>Winnipeg, Manitoba</td>\n",
       "      <td>2013</td>\n",
       "      <td>506.4</td>\n",
       "    </tr>\n",
       "    <tr>\n",
       "      <th>453</th>\n",
       "      <td>Winnipeg, Manitoba</td>\n",
       "      <td>2014</td>\n",
       "      <td>497.9</td>\n",
       "    </tr>\n",
       "    <tr>\n",
       "      <th>454</th>\n",
       "      <td>Winnipeg, Manitoba</td>\n",
       "      <td>2015</td>\n",
       "      <td>494.2</td>\n",
       "    </tr>\n",
       "  </tbody>\n",
       "</table>\n",
       "</div>"
      ],
      "text/plain": [
       "                   Area  Year   Case\n",
       "450  Winnipeg, Manitoba  2011  517.2\n",
       "451  Winnipeg, Manitoba  2012  511.0\n",
       "452  Winnipeg, Manitoba  2013  506.4\n",
       "453  Winnipeg, Manitoba  2014  497.9\n",
       "454  Winnipeg, Manitoba  2015  494.2"
      ]
     },
     "execution_count": 5,
     "metadata": {},
     "output_type": "execute_result"
    }
   ],
   "source": [
    "cancer.head()"
   ]
  },
  {
   "cell_type": "code",
   "execution_count": 6,
   "metadata": {},
   "outputs": [
    {
     "data": {
      "text/html": [
       "<div>\n",
       "<style scoped>\n",
       "    .dataframe tbody tr th:only-of-type {\n",
       "        vertical-align: middle;\n",
       "    }\n",
       "\n",
       "    .dataframe tbody tr th {\n",
       "        vertical-align: top;\n",
       "    }\n",
       "\n",
       "    .dataframe thead th {\n",
       "        text-align: right;\n",
       "    }\n",
       "</style>\n",
       "<table border=\"1\" class=\"dataframe\">\n",
       "  <thead>\n",
       "    <tr style=\"text-align: right;\">\n",
       "      <th></th>\n",
       "      <th>Area</th>\n",
       "      <th>Year</th>\n",
       "      <th>Case</th>\n",
       "    </tr>\n",
       "  </thead>\n",
       "  <tbody>\n",
       "    <tr>\n",
       "      <th>450</th>\n",
       "      <td>Winnipeg, Manitoba</td>\n",
       "      <td>2011</td>\n",
       "      <td>517.2</td>\n",
       "    </tr>\n",
       "    <tr>\n",
       "      <th>451</th>\n",
       "      <td>Winnipeg, Manitoba</td>\n",
       "      <td>2012</td>\n",
       "      <td>511.0</td>\n",
       "    </tr>\n",
       "    <tr>\n",
       "      <th>452</th>\n",
       "      <td>Winnipeg, Manitoba</td>\n",
       "      <td>2013</td>\n",
       "      <td>506.4</td>\n",
       "    </tr>\n",
       "    <tr>\n",
       "      <th>453</th>\n",
       "      <td>Winnipeg, Manitoba</td>\n",
       "      <td>2014</td>\n",
       "      <td>497.9</td>\n",
       "    </tr>\n",
       "    <tr>\n",
       "      <th>454</th>\n",
       "      <td>Winnipeg, Manitoba</td>\n",
       "      <td>2015</td>\n",
       "      <td>494.2</td>\n",
       "    </tr>\n",
       "  </tbody>\n",
       "</table>\n",
       "</div>"
      ],
      "text/plain": [
       "                   Area  Year   Case\n",
       "450  Winnipeg, Manitoba  2011  517.2\n",
       "451  Winnipeg, Manitoba  2012  511.0\n",
       "452  Winnipeg, Manitoba  2013  506.4\n",
       "453  Winnipeg, Manitoba  2014  497.9\n",
       "454  Winnipeg, Manitoba  2015  494.2"
      ]
     },
     "execution_count": 6,
     "metadata": {},
     "output_type": "execute_result"
    }
   ],
   "source": [
    "cancer.tail()"
   ]
  }
 ],
 "metadata": {
  "kernelspec": {
   "display_name": "Python 3",
   "language": "python",
   "name": "python3"
  },
  "language_info": {
   "codemirror_mode": {
    "name": "ipython",
    "version": 3
   },
   "file_extension": ".py",
   "mimetype": "text/x-python",
   "name": "python",
   "nbconvert_exporter": "python",
   "pygments_lexer": "ipython3",
   "version": "3.10.13"
  }
 },
 "nbformat": 4,
 "nbformat_minor": 2
}
